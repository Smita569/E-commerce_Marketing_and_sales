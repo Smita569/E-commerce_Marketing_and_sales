{
  "nbformat": 4,
  "nbformat_minor": 0,
  "metadata": {
    "colab": {
      "provenance": [],
      "authorship_tag": "ABX9TyPXsnGrt3983OzTIryW2E/b",
      "include_colab_link": true
    },
    "kernelspec": {
      "name": "python3",
      "display_name": "Python 3"
    },
    "language_info": {
      "name": "python"
    }
  },
  "cells": [
    {
      "cell_type": "markdown",
      "metadata": {
        "id": "view-in-github",
        "colab_type": "text"
      },
      "source": [
        "<a href=\"https://colab.research.google.com/github/Smita569/E-commerce_Marketing_and_sales/blob/main/E_commerce_Marketing_and_sales_Business_Case.ipynb\" target=\"_parent\"><img src=\"https://colab.research.google.com/assets/colab-badge.svg\" alt=\"Open In Colab\"/></a>"
      ]
    },
    {
      "cell_type": "markdown",
      "source": [
        "**Problem Statement** : The e-commerce company aims to leverage data-driven insights to enhance customer acquisition, retention, and revenue optimization. The following analysis will be conducted to understand key business trends and improve decision-making."
      ],
      "metadata": {
        "id": "c5Zf3i9qnoTC"
      }
    },
    {
      "cell_type": "code",
      "source": [
        "# Import libraries\n",
        "\n",
        "import pandas as pd\n",
        "import numpy as np"
      ],
      "metadata": {
        "id": "T55VIeXZphpb"
      },
      "execution_count": null,
      "outputs": []
    },
    {
      "cell_type": "code",
      "source": [],
      "metadata": {
        "id": "RziWBeIrrglN"
      },
      "execution_count": null,
      "outputs": []
    },
    {
      "cell_type": "code",
      "source": [
        "# Upload csv files into dataframe\n",
        "\n",
        "df_customer = pd.read_csv('olist_customers_dataset.csv')\n",
        "df_geolocation = pd.read_csv('olist_geolocation_dataset.csv')\n"
      ],
      "metadata": {
        "id": "Hwf9cugIqS0g"
      },
      "execution_count": null,
      "outputs": []
    }
  ]
}